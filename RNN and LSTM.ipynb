{
 "cells": [
  {
   "cell_type": "code",
   "execution_count": 1,
   "id": "2e8518bc",
   "metadata": {},
   "outputs": [],
   "source": [
    "import math\n",
    "import numpy as np\n",
    "import pandas as pd\n",
    "import tensorflow as tf\n",
    "from tensorflow import keras\n",
    "from tensorflow.keras import layers\n",
    "from keras.layers import Dense, LSTM\n",
    "import matplotlib.pyplot as plt"
   ]
  },
  {
   "cell_type": "code",
   "execution_count": 22,
   "id": "6565ef39",
   "metadata": {},
   "outputs": [],
   "source": [
    "import os"
   ]
  },
  {
   "cell_type": "code",
   "execution_count": 23,
   "id": "59de12a5",
   "metadata": {},
   "outputs": [
    {
     "data": {
      "text/plain": [
       "['bodyfat.csv',\n",
       " 'Churn_Modelling.csv',\n",
       " 'Folds5x2_pp.xlsx',\n",
       " 'Google_Stock_Price_Test.csv',\n",
       " 'Google_Stock_Price_Train.csv']"
      ]
     },
     "execution_count": 23,
     "metadata": {},
     "output_type": "execute_result"
    }
   ],
   "source": [
    "os.listdir('./datasets'\n",
    "          )"
   ]
  },
  {
   "cell_type": "code",
   "execution_count": 24,
   "id": "b8610c3e",
   "metadata": {},
   "outputs": [
    {
     "data": {
      "text/html": [
       "<div>\n",
       "<style scoped>\n",
       "    .dataframe tbody tr th:only-of-type {\n",
       "        vertical-align: middle;\n",
       "    }\n",
       "\n",
       "    .dataframe tbody tr th {\n",
       "        vertical-align: top;\n",
       "    }\n",
       "\n",
       "    .dataframe thead th {\n",
       "        text-align: right;\n",
       "    }\n",
       "</style>\n",
       "<table border=\"1\" class=\"dataframe\">\n",
       "  <thead>\n",
       "    <tr style=\"text-align: right;\">\n",
       "      <th></th>\n",
       "      <th>Date</th>\n",
       "      <th>Open</th>\n",
       "      <th>High</th>\n",
       "      <th>Low</th>\n",
       "      <th>Close</th>\n",
       "      <th>Volume</th>\n",
       "    </tr>\n",
       "  </thead>\n",
       "  <tbody>\n",
       "    <tr>\n",
       "      <th>0</th>\n",
       "      <td>1/3/2012</td>\n",
       "      <td>325.25</td>\n",
       "      <td>332.83</td>\n",
       "      <td>324.97</td>\n",
       "      <td>663.59</td>\n",
       "      <td>7,380,500</td>\n",
       "    </tr>\n",
       "    <tr>\n",
       "      <th>1</th>\n",
       "      <td>1/4/2012</td>\n",
       "      <td>331.27</td>\n",
       "      <td>333.87</td>\n",
       "      <td>329.08</td>\n",
       "      <td>666.45</td>\n",
       "      <td>5,749,400</td>\n",
       "    </tr>\n",
       "    <tr>\n",
       "      <th>2</th>\n",
       "      <td>1/5/2012</td>\n",
       "      <td>329.83</td>\n",
       "      <td>330.75</td>\n",
       "      <td>326.89</td>\n",
       "      <td>657.21</td>\n",
       "      <td>6,590,300</td>\n",
       "    </tr>\n",
       "    <tr>\n",
       "      <th>3</th>\n",
       "      <td>1/6/2012</td>\n",
       "      <td>328.34</td>\n",
       "      <td>328.77</td>\n",
       "      <td>323.68</td>\n",
       "      <td>648.24</td>\n",
       "      <td>5,405,900</td>\n",
       "    </tr>\n",
       "    <tr>\n",
       "      <th>4</th>\n",
       "      <td>1/9/2012</td>\n",
       "      <td>322.04</td>\n",
       "      <td>322.29</td>\n",
       "      <td>309.46</td>\n",
       "      <td>620.76</td>\n",
       "      <td>11,688,800</td>\n",
       "    </tr>\n",
       "  </tbody>\n",
       "</table>\n",
       "</div>"
      ],
      "text/plain": [
       "       Date    Open    High     Low   Close      Volume\n",
       "0  1/3/2012  325.25  332.83  324.97  663.59   7,380,500\n",
       "1  1/4/2012  331.27  333.87  329.08  666.45   5,749,400\n",
       "2  1/5/2012  329.83  330.75  326.89  657.21   6,590,300\n",
       "3  1/6/2012  328.34  328.77  323.68  648.24   5,405,900\n",
       "4  1/9/2012  322.04  322.29  309.46  620.76  11,688,800"
      ]
     },
     "execution_count": 24,
     "metadata": {},
     "output_type": "execute_result"
    }
   ],
   "source": [
    "rnn_data = pd.read_csv(\"./datasets/Google_Stock_Price_Train.csv\")\n",
    "rnn_data.head()"
   ]
  },
  {
   "cell_type": "code",
   "execution_count": 25,
   "id": "80644033",
   "metadata": {},
   "outputs": [
    {
     "data": {
      "text/plain": [
       "(1258, 6)"
      ]
     },
     "execution_count": 25,
     "metadata": {},
     "output_type": "execute_result"
    }
   ],
   "source": [
    "rnn_data.shape"
   ]
  },
  {
   "cell_type": "code",
   "execution_count": 26,
   "id": "6f1f256b",
   "metadata": {},
   "outputs": [
    {
     "name": "stdout",
     "output_type": "stream",
     "text": [
      "<class 'pandas.core.frame.DataFrame'>\n",
      "RangeIndex: 1258 entries, 0 to 1257\n",
      "Data columns (total 6 columns):\n",
      " #   Column  Non-Null Count  Dtype  \n",
      "---  ------  --------------  -----  \n",
      " 0   Date    1258 non-null   object \n",
      " 1   Open    1258 non-null   float64\n",
      " 2   High    1258 non-null   float64\n",
      " 3   Low     1258 non-null   float64\n",
      " 4   Close   1258 non-null   object \n",
      " 5   Volume  1258 non-null   object \n",
      "dtypes: float64(3), object(3)\n",
      "memory usage: 59.1+ KB\n"
     ]
    }
   ],
   "source": [
    "rnn_data.info()"
   ]
  },
  {
   "cell_type": "code",
   "execution_count": 27,
   "id": "e95aa0ca",
   "metadata": {},
   "outputs": [
    {
     "data": {
      "text/html": [
       "<div>\n",
       "<style scoped>\n",
       "    .dataframe tbody tr th:only-of-type {\n",
       "        vertical-align: middle;\n",
       "    }\n",
       "\n",
       "    .dataframe tbody tr th {\n",
       "        vertical-align: top;\n",
       "    }\n",
       "\n",
       "    .dataframe thead th {\n",
       "        text-align: right;\n",
       "    }\n",
       "</style>\n",
       "<table border=\"1\" class=\"dataframe\">\n",
       "  <thead>\n",
       "    <tr style=\"text-align: right;\">\n",
       "      <th></th>\n",
       "      <th>Open</th>\n",
       "      <th>High</th>\n",
       "      <th>Low</th>\n",
       "    </tr>\n",
       "  </thead>\n",
       "  <tbody>\n",
       "    <tr>\n",
       "      <th>count</th>\n",
       "      <td>1258.000000</td>\n",
       "      <td>1258.000000</td>\n",
       "      <td>1258.000000</td>\n",
       "    </tr>\n",
       "    <tr>\n",
       "      <th>mean</th>\n",
       "      <td>533.709833</td>\n",
       "      <td>537.880223</td>\n",
       "      <td>529.007409</td>\n",
       "    </tr>\n",
       "    <tr>\n",
       "      <th>std</th>\n",
       "      <td>151.904442</td>\n",
       "      <td>153.008811</td>\n",
       "      <td>150.552807</td>\n",
       "    </tr>\n",
       "    <tr>\n",
       "      <th>min</th>\n",
       "      <td>279.120000</td>\n",
       "      <td>281.210000</td>\n",
       "      <td>277.220000</td>\n",
       "    </tr>\n",
       "    <tr>\n",
       "      <th>25%</th>\n",
       "      <td>404.115000</td>\n",
       "      <td>406.765000</td>\n",
       "      <td>401.765000</td>\n",
       "    </tr>\n",
       "    <tr>\n",
       "      <th>50%</th>\n",
       "      <td>537.470000</td>\n",
       "      <td>540.750000</td>\n",
       "      <td>532.990000</td>\n",
       "    </tr>\n",
       "    <tr>\n",
       "      <th>75%</th>\n",
       "      <td>654.922500</td>\n",
       "      <td>662.587500</td>\n",
       "      <td>644.800000</td>\n",
       "    </tr>\n",
       "    <tr>\n",
       "      <th>max</th>\n",
       "      <td>816.680000</td>\n",
       "      <td>816.680000</td>\n",
       "      <td>805.140000</td>\n",
       "    </tr>\n",
       "  </tbody>\n",
       "</table>\n",
       "</div>"
      ],
      "text/plain": [
       "              Open         High          Low\n",
       "count  1258.000000  1258.000000  1258.000000\n",
       "mean    533.709833   537.880223   529.007409\n",
       "std     151.904442   153.008811   150.552807\n",
       "min     279.120000   281.210000   277.220000\n",
       "25%     404.115000   406.765000   401.765000\n",
       "50%     537.470000   540.750000   532.990000\n",
       "75%     654.922500   662.587500   644.800000\n",
       "max     816.680000   816.680000   805.140000"
      ]
     },
     "execution_count": 27,
     "metadata": {},
     "output_type": "execute_result"
    }
   ],
   "source": [
    "rnn_data.describe()"
   ]
  },
  {
   "cell_type": "code",
   "execution_count": 28,
   "id": "22338ed0",
   "metadata": {},
   "outputs": [
    {
     "data": {
      "text/html": [
       "<div>\n",
       "<style scoped>\n",
       "    .dataframe tbody tr th:only-of-type {\n",
       "        vertical-align: middle;\n",
       "    }\n",
       "\n",
       "    .dataframe tbody tr th {\n",
       "        vertical-align: top;\n",
       "    }\n",
       "\n",
       "    .dataframe thead th {\n",
       "        text-align: right;\n",
       "    }\n",
       "</style>\n",
       "<table border=\"1\" class=\"dataframe\">\n",
       "  <thead>\n",
       "    <tr style=\"text-align: right;\">\n",
       "      <th></th>\n",
       "      <th>Open</th>\n",
       "      <th>High</th>\n",
       "      <th>Low</th>\n",
       "    </tr>\n",
       "  </thead>\n",
       "  <tbody>\n",
       "    <tr>\n",
       "      <th>Open</th>\n",
       "      <td>1.000000</td>\n",
       "      <td>0.999692</td>\n",
       "      <td>0.999498</td>\n",
       "    </tr>\n",
       "    <tr>\n",
       "      <th>High</th>\n",
       "      <td>0.999692</td>\n",
       "      <td>1.000000</td>\n",
       "      <td>0.999480</td>\n",
       "    </tr>\n",
       "    <tr>\n",
       "      <th>Low</th>\n",
       "      <td>0.999498</td>\n",
       "      <td>0.999480</td>\n",
       "      <td>1.000000</td>\n",
       "    </tr>\n",
       "  </tbody>\n",
       "</table>\n",
       "</div>"
      ],
      "text/plain": [
       "          Open      High       Low\n",
       "Open  1.000000  0.999692  0.999498\n",
       "High  0.999692  1.000000  0.999480\n",
       "Low   0.999498  0.999480  1.000000"
      ]
     },
     "execution_count": 28,
     "metadata": {},
     "output_type": "execute_result"
    }
   ],
   "source": [
    "rnn_data.corr()"
   ]
  },
  {
   "cell_type": "code",
   "execution_count": 29,
   "id": "fc5228e4",
   "metadata": {},
   "outputs": [
    {
     "data": {
      "text/plain": [
       "Index(['Date', 'Open', 'High', 'Low', 'Close', 'Volume'], dtype='object')"
      ]
     },
     "execution_count": 29,
     "metadata": {},
     "output_type": "execute_result"
    }
   ],
   "source": [
    "rnn_data.columns"
   ]
  },
  {
   "cell_type": "code",
   "execution_count": 30,
   "id": "bdc59177",
   "metadata": {},
   "outputs": [
    {
     "data": {
      "text/plain": [
       "array([[325.25],\n",
       "       [331.27],\n",
       "       [329.83],\n",
       "       ...,\n",
       "       [793.7 ],\n",
       "       [783.33],\n",
       "       [782.75]])"
      ]
     },
     "execution_count": 30,
     "metadata": {},
     "output_type": "execute_result"
    }
   ],
   "source": [
    "data_set = rnn_data.loc[:,['Open']].values\n",
    "data_set"
   ]
  },
  {
   "cell_type": "code",
   "execution_count": 47,
   "id": "487bcfc9",
   "metadata": {},
   "outputs": [
    {
     "data": {
      "text/plain": [
       "(1208, 1)"
      ]
     },
     "execution_count": 47,
     "metadata": {},
     "output_type": "execute_result"
    }
   ],
   "source": [
    "train = data_set[:len(data_set) - 50]\n",
    "test = data_set[len(train):]\n",
    "\n",
    "train.reshape(train.shape[0],1)\n",
    "train.shape"
   ]
  },
  {
   "cell_type": "code",
   "execution_count": 48,
   "id": "41bbd502",
   "metadata": {},
   "outputs": [
    {
     "data": {
      "text/plain": [
       "(50, 1)"
      ]
     },
     "execution_count": 48,
     "metadata": {},
     "output_type": "execute_result"
    }
   ],
   "source": [
    "test.shape"
   ]
  },
  {
   "cell_type": "code",
   "execution_count": 49,
   "id": "908f0fef",
   "metadata": {},
   "outputs": [
    {
     "data": {
      "text/plain": [
       "array([[0.08886192],\n",
       "       [0.10045847],\n",
       "       [0.09768454],\n",
       "       ...,\n",
       "       [0.96447835],\n",
       "       [0.97998536],\n",
       "       [1.        ]])"
      ]
     },
     "execution_count": 49,
     "metadata": {},
     "output_type": "execute_result"
    }
   ],
   "source": [
    "from sklearn.preprocessing import MinMaxScaler\n",
    "scaler = MinMaxScaler(feature_range=(0,1))\n",
    "train_scaler = scaler.fit_transform(train)\n",
    "train_scaler"
   ]
  },
  {
   "cell_type": "code",
   "execution_count": 50,
   "id": "8d219037",
   "metadata": {},
   "outputs": [
    {
     "data": {
      "image/png": "[encoded data removed]",
      "text/plain": [
       "<Figure size 432x288 with 1 Axes>"
      ]
     },
     "metadata": {
      "needs_background": "light"
     },
     "output_type": "display_data"
    }
   ],
   "source": [
    "plt.plot(train_scaler)\n",
    "plt.show()"
   ]
  },
  {
   "cell_type": "code",
   "execution_count": 51,
   "id": "7ddc3391",
   "metadata": {},
   "outputs": [],
   "source": [
    "X_train = []\n",
    "Y_train = []\n",
    "timesteps = 50\n",
    "\n",
    "for i in range(timesteps, len(train_scaler)):\n",
    "    X_train.append(train_scaler[i - timesteps:i, 0])\n",
    "    Y_train.append(train_scaler[i,0])\n",
    "    \n",
    "X_train, Y_train = np.array(X_train), np.array(Y_train)\n",
    "\n",
    "X_train = np.reshape(X_train, (X_train.shape[0], X_train.shape[1], 1))"
   ]
  },
  {
   "cell_type": "code",
   "execution_count": 52,
   "id": "5be63322",
   "metadata": {},
   "outputs": [
    {
     "data": {
      "text/plain": [
       "(1158, 50, 1)"
      ]
     },
     "execution_count": 52,
     "metadata": {},
     "output_type": "execute_result"
    }
   ],
   "source": [
    "X_train.shape"
   ]
  },
  {
   "cell_type": "code",
   "execution_count": 53,
   "id": "ef14f6ef",
   "metadata": {},
   "outputs": [
    {
     "data": {
      "text/plain": [
       "(1158,)"
      ]
     },
     "execution_count": 53,
     "metadata": {},
     "output_type": "execute_result"
    }
   ],
   "source": [
    "Y_train.shape"
   ]
  },
  {
   "cell_type": "code",
   "execution_count": 54,
   "id": "64ec7cca",
   "metadata": {},
   "outputs": [
    {
     "name": "stdout",
     "output_type": "stream",
     "text": [
      "Epoch 1/100\n",
      "37/37 [==============================] - 3s 23ms/step - loss: 0.4654\n",
      "Epoch 2/100\n",
      "37/37 [==============================] - 1s 23ms/step - loss: 0.2862\n",
      "Epoch 3/100\n",
      "37/37 [==============================] - 1s 23ms/step - loss: 0.2168\n",
      "Epoch 4/100\n",
      "37/37 [==============================] - 1s 23ms/step - loss: 0.1655\n",
      "Epoch 5/100\n",
      "37/37 [==============================] - 1s 23ms/step - loss: 0.1302\n",
      "Epoch 6/100\n",
      "37/37 [==============================] - 1s 23ms/step - loss: 0.1057\n",
      "Epoch 7/100\n",
      "37/37 [==============================] - 1s 23ms/step - loss: 0.0927\n",
      "Epoch 8/100\n",
      "37/37 [==============================] - 1s 23ms/step - loss: 0.0818\n",
      "Epoch 9/100\n",
      "37/37 [==============================] - 1s 23ms/step - loss: 0.0617\n",
      "Epoch 10/100\n",
      "37/37 [==============================] - 1s 23ms/step - loss: 0.0598\n",
      "Epoch 11/100\n",
      "37/37 [==============================] - 1s 23ms/step - loss: 0.0507\n",
      "Epoch 12/100\n",
      "37/37 [==============================] - 1s 23ms/step - loss: 0.0420\n",
      "Epoch 13/100\n",
      "37/37 [==============================] - 1s 23ms/step - loss: 0.0383\n",
      "Epoch 14/100\n",
      "37/37 [==============================] - 1s 23ms/step - loss: 0.0352\n",
      "Epoch 15/100\n",
      "37/37 [==============================] - 1s 23ms/step - loss: 0.0318\n",
      "Epoch 16/100\n",
      "37/37 [==============================] - 1s 23ms/step - loss: 0.0303\n",
      "Epoch 17/100\n",
      "37/37 [==============================] - 1s 23ms/step - loss: 0.0265\n",
      "Epoch 18/100\n",
      "37/37 [==============================] - 1s 23ms/step - loss: 0.0245\n",
      "Epoch 19/100\n",
      "37/37 [==============================] - 1s 23ms/step - loss: 0.0223\n",
      "Epoch 20/100\n",
      "37/37 [==============================] - 1s 23ms/step - loss: 0.0205\n",
      "Epoch 21/100\n",
      "37/37 [==============================] - 1s 23ms/step - loss: 0.0179\n",
      "Epoch 22/100\n",
      "37/37 [==============================] - 1s 23ms/step - loss: 0.0177\n",
      "Epoch 23/100\n",
      "37/37 [==============================] - 1s 23ms/step - loss: 0.0179\n",
      "Epoch 24/100\n",
      "37/37 [==============================] - 1s 23ms/step - loss: 0.0155\n",
      "Epoch 25/100\n",
      "37/37 [==============================] - 1s 23ms/step - loss: 0.0134\n",
      "Epoch 26/100\n",
      "37/37 [==============================] - 1s 23ms/step - loss: 0.0122\n",
      "Epoch 27/100\n",
      "37/37 [==============================] - 1s 23ms/step - loss: 0.0121\n",
      "Epoch 28/100\n",
      "37/37 [==============================] - 1s 23ms/step - loss: 0.0129\n",
      "Epoch 29/100\n",
      "37/37 [==============================] - 1s 23ms/step - loss: 0.0102\n",
      "Epoch 30/100\n",
      "37/37 [==============================] - 1s 23ms/step - loss: 0.0114\n",
      "Epoch 31/100\n",
      "37/37 [==============================] - 1s 23ms/step - loss: 0.0103\n",
      "Epoch 32/100\n",
      "37/37 [==============================] - 1s 23ms/step - loss: 0.0097\n",
      "Epoch 33/100\n",
      "37/37 [==============================] - 1s 23ms/step - loss: 0.0090\n",
      "Epoch 34/100\n",
      "37/37 [==============================] - 1s 23ms/step - loss: 0.0082\n",
      "Epoch 35/100\n",
      "37/37 [==============================] - 1s 23ms/step - loss: 0.0081\n",
      "Epoch 36/100\n",
      "37/37 [==============================] - 1s 23ms/step - loss: 0.0082\n",
      "Epoch 37/100\n",
      "37/37 [==============================] - 1s 23ms/step - loss: 0.0081\n",
      "Epoch 38/100\n",
      "37/37 [==============================] - 1s 23ms/step - loss: 0.0077\n",
      "Epoch 39/100\n",
      "37/37 [==============================] - 1s 23ms/step - loss: 0.0071\n",
      "Epoch 40/100\n",
      "37/37 [==============================] - 1s 23ms/step - loss: 0.0069\n",
      "Epoch 41/100\n",
      "37/37 [==============================] - 1s 24ms/step - loss: 0.0068\n",
      "Epoch 42/100\n",
      "37/37 [==============================] - 1s 23ms/step - loss: 0.0063\n",
      "Epoch 43/100\n",
      "37/37 [==============================] - 1s 23ms/step - loss: 0.0065\n",
      "Epoch 44/100\n",
      "37/37 [==============================] - 1s 24ms/step - loss: 0.0063\n",
      "Epoch 45/100\n",
      "37/37 [==============================] - 1s 25ms/step - loss: 0.0054\n",
      "Epoch 46/100\n",
      "37/37 [==============================] - 1s 23ms/step - loss: 0.0057\n",
      "Epoch 47/100\n",
      "37/37 [==============================] - 1s 25ms/step - loss: 0.0061\n",
      "Epoch 48/100\n",
      "37/37 [==============================] - 1s 24ms/step - loss: 0.0051\n",
      "Epoch 49/100\n",
      "37/37 [==============================] - 1s 23ms/step - loss: 0.0050\n",
      "Epoch 50/100\n",
      "37/37 [==============================] - 1s 24ms/step - loss: 0.0049\n",
      "Epoch 51/100\n",
      "37/37 [==============================] - 1s 24ms/step - loss: 0.0047\n",
      "Epoch 52/100\n",
      "37/37 [==============================] - 1s 23ms/step - loss: 0.0055\n",
      "Epoch 53/100\n",
      "37/37 [==============================] - 1s 24ms/step - loss: 0.0046\n",
      "Epoch 54/100\n",
      "37/37 [==============================] - 1s 23ms/step - loss: 0.0047\n",
      "Epoch 55/100\n",
      "37/37 [==============================] - 1s 24ms/step - loss: 0.0046\n",
      "Epoch 56/100\n",
      "37/37 [==============================] - 1s 23ms/step - loss: 0.0044\n",
      "Epoch 57/100\n",
      "37/37 [==============================] - 1s 24ms/step - loss: 0.0040\n",
      "Epoch 58/100\n",
      "37/37 [==============================] - 1s 24ms/step - loss: 0.0042\n",
      "Epoch 59/100\n",
      "37/37 [==============================] - 1s 24ms/step - loss: 0.0043\n",
      "Epoch 60/100\n",
      "37/37 [==============================] - 1s 25ms/step - loss: 0.0040\n",
      "Epoch 61/100\n",
      "37/37 [==============================] - 1s 24ms/step - loss: 0.0037\n",
      "Epoch 62/100\n",
      "37/37 [==============================] - 1s 24ms/step - loss: 0.0036\n",
      "Epoch 63/100\n",
      "37/37 [==============================] - 1s 24ms/step - loss: 0.0037\n",
      "Epoch 64/100\n",
      "37/37 [==============================] - 1s 25ms/step - loss: 0.0038\n",
      "Epoch 65/100\n",
      "37/37 [==============================] - 1s 24ms/step - loss: 0.0039\n",
      "Epoch 66/100\n",
      "37/37 [==============================] - 1s 24ms/step - loss: 0.0035\n",
      "Epoch 67/100\n",
      "37/37 [==============================] - 1s 24ms/step - loss: 0.0034\n",
      "Epoch 68/100\n",
      "37/37 [==============================] - 1s 25ms/step - loss: 0.0038\n",
      "Epoch 69/100\n",
      "37/37 [==============================] - 1s 24ms/step - loss: 0.0037\n",
      "Epoch 70/100\n",
      "37/37 [==============================] - 1s 24ms/step - loss: 0.0037\n",
      "Epoch 71/100\n",
      "37/37 [==============================] - 1s 25ms/step - loss: 0.0033\n",
      "Epoch 72/100\n",
      "37/37 [==============================] - 1s 24ms/step - loss: 0.0031\n",
      "Epoch 73/100\n",
      "37/37 [==============================] - 1s 24ms/step - loss: 0.0031\n",
      "Epoch 74/100\n",
      "37/37 [==============================] - 1s 24ms/step - loss: 0.0032\n",
      "Epoch 75/100\n",
      "37/37 [==============================] - 1s 25ms/step - loss: 0.0032\n",
      "Epoch 76/100\n",
      "37/37 [==============================] - 1s 24ms/step - loss: 0.0031\n",
      "Epoch 77/100\n",
      "37/37 [==============================] - 1s 25ms/step - loss: 0.0030\n",
      "Epoch 78/100\n",
      "37/37 [==============================] - 1s 25ms/step - loss: 0.0030\n",
      "Epoch 79/100\n",
      "37/37 [==============================] - 1s 30ms/step - loss: 0.0029\n",
      "Epoch 80/100\n",
      "37/37 [==============================] - 1s 25ms/step - loss: 0.0031\n",
      "Epoch 81/100\n",
      "37/37 [==============================] - 1s 25ms/step - loss: 0.0031\n",
      "Epoch 82/100\n",
      "37/37 [==============================] - 1s 25ms/step - loss: 0.0032\n",
      "Epoch 83/100\n",
      "37/37 [==============================] - 1s 25ms/step - loss: 0.0028\n",
      "Epoch 84/100\n",
      "37/37 [==============================] - 1s 25ms/step - loss: 0.0029\n",
      "Epoch 85/100\n",
      "37/37 [==============================] - 1s 24ms/step - loss: 0.0026\n",
      "Epoch 86/100\n",
      "37/37 [==============================] - 1s 25ms/step - loss: 0.0026\n",
      "Epoch 87/100\n",
      "37/37 [==============================] - 1s 25ms/step - loss: 0.0026\n",
      "Epoch 88/100\n",
      "37/37 [==============================] - 1s 25ms/step - loss: 0.0027\n",
      "Epoch 89/100\n",
      "37/37 [==============================] - 1s 24ms/step - loss: 0.0026\n",
      "Epoch 90/100\n",
      "37/37 [==============================] - 1s 28ms/step - loss: 0.0027\n",
      "Epoch 91/100\n",
      "37/37 [==============================] - 1s 25ms/step - loss: 0.0029\n",
      "Epoch 92/100\n",
      "37/37 [==============================] - 1s 25ms/step - loss: 0.0027\n",
      "Epoch 93/100\n",
      "37/37 [==============================] - 1s 25ms/step - loss: 0.0026\n",
      "Epoch 94/100\n",
      "37/37 [==============================] - 1s 26ms/step - loss: 0.0027\n",
      "Epoch 95/100\n",
      "37/37 [==============================] - 1s 25ms/step - loss: 0.0025\n",
      "Epoch 96/100\n",
      "37/37 [==============================] - 1s 26ms/step - loss: 0.0024\n",
      "Epoch 97/100\n",
      "37/37 [==============================] - 1s 26ms/step - loss: 0.0025\n",
      "Epoch 98/100\n",
      "37/37 [==============================] - 1s 28ms/step - loss: 0.0023\n",
      "Epoch 99/100\n",
      "37/37 [==============================] - 1s 26ms/step - loss: 0.0026\n",
      "Epoch 100/100\n",
      "37/37 [==============================] - 1s 26ms/step - loss: 0.0025\n"
     ]
    },
    {
     "data": {
      "text/plain": [
       "<keras.callbacks.History at 0x199faf9bd30>"
      ]
     },
     "execution_count": 54,
     "metadata": {},
     "output_type": "execute_result"
    }
   ],
   "source": [
    "from keras.models import Sequential\n",
    "from keras.layers import Dense, SimpleRNN, Dropout\n",
    "\n",
    "\n",
    "regressor = Sequential()\n",
    "\n",
    "\n",
    "regressor.add(SimpleRNN(units = 50, activation = \"tanh\", return_sequences = True, input_shape = (X_train.shape[1], 1)))\n",
    "regressor.add(Dropout(0.2))\n",
    "\n",
    "regressor.add(SimpleRNN(units = 50, activation = \"tanh\", return_sequences = True))\n",
    "regressor.add(Dropout(0.2))\n",
    "\n",
    "regressor.add(SimpleRNN(units = 50, activation = \"tanh\", return_sequences = True))\n",
    "regressor.add(Dropout(0.2))\n",
    "\n",
    "regressor.add(SimpleRNN(units = 50))\n",
    "regressor.add(Dropout(0.2))\n",
    "\n",
    "regressor.add(Dense(units = 1))\n",
    "\n",
    "regressor.compile(optimizer = \"adam\", loss = \"mean_squared_error\")\n",
    "\n",
    "regressor.fit(X_train, Y_train, epochs = 100, batch_size = 32)"
   ]
  },
  {
   "cell_type": "code",
   "execution_count": 55,
   "id": "5e9e8206",
   "metadata": {},
   "outputs": [],
   "source": [
    "inputs = data_set[len(data_set) - len(test) - timesteps:]\n",
    "inputs = scaler.transform(inputs)"
   ]
  },
  {
   "cell_type": "code",
   "execution_count": 56,
   "id": "50e111bc",
   "metadata": {},
   "outputs": [
    {
     "name": "stdout",
     "output_type": "stream",
     "text": [
      "2/2 [==============================] - 0s 7ms/step\n"
     ]
    }
   ],
   "source": [
    "X_test = []\n",
    "for i in range(timesteps, inputs.shape[0]):\n",
    "    X_test.append(inputs[i - timesteps:i, 0])\n",
    "    \n",
    "X_test_rnn = np.array(X_test)\n",
    "X_test_rnn = np.reshape(X_test_rnn, (X_test_rnn.shape[0], X_test_rnn.shape[1], 1))\n",
    "predicted_stock_price = regressor.predict(X_test_rnn)\n",
    "predicted_stock_price = scaler.inverse_transform(predicted_stock_price)"
   ]
  },
  {
   "cell_type": "code",
   "execution_count": 57,
   "id": "61b2ac8f",
   "metadata": {},
   "outputs": [
    {
     "data": {
      "image/png": "[encoded data removed]",
      "text/plain": [
       "<Figure size 432x288 with 1 Axes>"
      ]
     },
     "metadata": {
      "needs_background": "light"
     },
     "output_type": "display_data"
    }
   ],
   "source": [
    "plt.plot(test, color = \"red\", label = \"Real Google Stock Price\")\n",
    "plt.plot(predicted_stock_price, color = \"blue\", label = \"Predicted Google Stock Price\")\n",
    "plt.title(\"Google Stock Price Prediction\")\n",
    "plt.xlabel(\"Time\")\n",
    "plt.ylabel(\"Google Stock Price\")\n",
    "plt.legend()\n",
    "plt.show()"
   ]
  },
  {
   "cell_type": "code",
   "execution_count": null,
   "id": "1e399a6f",
   "metadata": {},
   "outputs": [],
   "source": []
  },
  {
   "cell_type": "code",
   "execution_count": null,
   "id": "d3a9679f",
   "metadata": {},
   "outputs": [],
   "source": []
  },
  {
   "cell_type": "markdown",
   "id": "8d984bce",
   "metadata": {},
   "source": [
    "# LSTM"
   ]
  },
  {
   "cell_type": "code",
   "execution_count": 58,
   "id": "e8ec44e4",
   "metadata": {},
   "outputs": [],
   "source": [
    "trainX = np.reshape(X_train, (X_train.shape[0], 1, X_train.shape[1]))\n"
   ]
  },
  {
   "cell_type": "code",
   "execution_count": 59,
   "id": "a9dc1d93",
   "metadata": {},
   "outputs": [
    {
     "name": "stdout",
     "output_type": "stream",
     "text": [
      "Epoch 1/50\n",
      "1158/1158 [==============================] - 3s 1ms/step - loss: 0.0039\n",
      "Epoch 2/50\n",
      "1158/1158 [==============================] - 2s 1ms/step - loss: 0.0014\n",
      "Epoch 3/50\n",
      "1158/1158 [==============================] - 2s 1ms/step - loss: 0.0012\n",
      "Epoch 4/50\n",
      "1158/1158 [==============================] - 2s 1ms/step - loss: 9.9835e-04\n",
      "Epoch 5/50\n",
      "1158/1158 [==============================] - 2s 1ms/step - loss: 0.0010\n",
      "Epoch 6/50\n",
      "1158/1158 [==============================] - 2s 1ms/step - loss: 8.1551e-04\n",
      "Epoch 7/50\n",
      "1158/1158 [==============================] - 2s 1ms/step - loss: 7.9752e-04\n",
      "Epoch 8/50\n",
      "1158/1158 [==============================] - 2s 1ms/step - loss: 8.5227e-04\n",
      "Epoch 9/50\n",
      "1158/1158 [==============================] - 2s 1ms/step - loss: 8.0564e-04\n",
      "Epoch 10/50\n",
      "1158/1158 [==============================] - 2s 1ms/step - loss: 8.4045e-04\n",
      "Epoch 11/50\n",
      "1158/1158 [==============================] - 2s 1ms/step - loss: 8.5813e-04\n",
      "Epoch 12/50\n",
      "1158/1158 [==============================] - 2s 1ms/step - loss: 7.3329e-04\n",
      "Epoch 13/50\n",
      "1158/1158 [==============================] - 2s 1ms/step - loss: 7.4006e-04\n",
      "Epoch 14/50\n",
      "1158/1158 [==============================] - 2s 1ms/step - loss: 6.7070e-04\n",
      "Epoch 15/50\n",
      "1158/1158 [==============================] - 2s 2ms/step - loss: 7.3241e-04\n",
      "Epoch 16/50\n",
      "1158/1158 [==============================] - 2s 2ms/step - loss: 7.0464e-04\n",
      "Epoch 17/50\n",
      "1158/1158 [==============================] - 2s 2ms/step - loss: 7.2879e-04\n",
      "Epoch 18/50\n",
      "1158/1158 [==============================] - 2s 2ms/step - loss: 6.5898e-04\n",
      "Epoch 19/50\n",
      "1158/1158 [==============================] - 2s 2ms/step - loss: 7.5317e-04\n",
      "Epoch 20/50\n",
      "1158/1158 [==============================] - 2s 2ms/step - loss: 6.3621e-04\n",
      "Epoch 21/50\n",
      "1158/1158 [==============================] - 2s 1ms/step - loss: 6.2443e-04\n",
      "Epoch 22/50\n",
      "1158/1158 [==============================] - 2s 2ms/step - loss: 5.8550e-04\n",
      "Epoch 23/50\n",
      "1158/1158 [==============================] - 2s 1ms/step - loss: 6.5723e-04\n",
      "Epoch 24/50\n",
      "1158/1158 [==============================] - 2s 1ms/step - loss: 6.3803e-04\n",
      "Epoch 25/50\n",
      "1158/1158 [==============================] - 2s 1ms/step - loss: 6.6378e-04\n",
      "Epoch 26/50\n",
      "1158/1158 [==============================] - 2s 1ms/step - loss: 5.7929e-04\n",
      "Epoch 27/50\n",
      "1158/1158 [==============================] - 2s 1ms/step - loss: 6.2152e-04\n",
      "Epoch 28/50\n",
      "1158/1158 [==============================] - 2s 1ms/step - loss: 5.8935e-04\n",
      "Epoch 29/50\n",
      "1158/1158 [==============================] - 2s 1ms/step - loss: 5.8667e-04\n",
      "Epoch 30/50\n",
      "1158/1158 [==============================] - 2s 1ms/step - loss: 5.8718e-04\n",
      "Epoch 31/50\n",
      "1158/1158 [==============================] - 2s 1ms/step - loss: 5.4650e-04\n",
      "Epoch 32/50\n",
      "1158/1158 [==============================] - 2s 1ms/step - loss: 5.6871e-04\n",
      "Epoch 33/50\n",
      "1158/1158 [==============================] - 2s 1ms/step - loss: 5.7560e-04\n",
      "Epoch 34/50\n",
      "1158/1158 [==============================] - 2s 1ms/step - loss: 5.3550e-04\n",
      "Epoch 35/50\n",
      "1158/1158 [==============================] - 2s 1ms/step - loss: 5.5131e-04\n",
      "Epoch 36/50\n",
      "1158/1158 [==============================] - 2s 1ms/step - loss: 5.5402e-04\n",
      "Epoch 37/50\n",
      "1158/1158 [==============================] - 2s 1ms/step - loss: 5.9560e-04\n",
      "Epoch 38/50\n",
      "1158/1158 [==============================] - 2s 1ms/step - loss: 5.4845e-04\n",
      "Epoch 39/50\n",
      "1158/1158 [==============================] - 2s 1ms/step - loss: 5.4729e-04\n",
      "Epoch 40/50\n",
      "1158/1158 [==============================] - 2s 1ms/step - loss: 5.2582e-04\n",
      "Epoch 41/50\n",
      "1158/1158 [==============================] - 2s 1ms/step - loss: 5.3370e-04\n",
      "Epoch 42/50\n",
      "1158/1158 [==============================] - 2s 1ms/step - loss: 4.7878e-04\n",
      "Epoch 43/50\n",
      "1158/1158 [==============================] - 2s 1ms/step - loss: 5.5009e-04\n",
      "Epoch 44/50\n",
      "1158/1158 [==============================] - 2s 1ms/step - loss: 5.0074e-04\n",
      "Epoch 45/50\n",
      "1158/1158 [==============================] - 2s 1ms/step - loss: 5.2728e-04\n",
      "Epoch 46/50\n",
      "1158/1158 [==============================] - 2s 1ms/step - loss: 5.0622e-04\n",
      "Epoch 47/50\n",
      "1158/1158 [==============================] - 2s 1ms/step - loss: 5.0749e-04\n",
      "Epoch 48/50\n",
      "1158/1158 [==============================] - 2s 1ms/step - loss: 5.5554e-04\n",
      "Epoch 49/50\n",
      "1158/1158 [==============================] - 2s 1ms/step - loss: 5.0494e-04\n",
      "Epoch 50/50\n",
      "1158/1158 [==============================] - 2s 1ms/step - loss: 4.5076e-04\n"
     ]
    },
    {
     "data": {
      "text/plain": [
       "<keras.callbacks.History at 0x1999c54abc0>"
      ]
     },
     "execution_count": 59,
     "metadata": {},
     "output_type": "execute_result"
    }
   ],
   "source": [
    "model = Sequential()\n",
    "model.add(LSTM(10, input_shape = (1, timesteps)))\n",
    "model.add(Dense(1))\n",
    "model.compile(loss = \"mean_squared_error\", optimizer = \"adam\")\n",
    "model.fit(trainX, Y_train, epochs = 50, batch_size = 1)\n"
   ]
  },
  {
   "cell_type": "code",
   "execution_count": 60,
   "id": "f67958b8",
   "metadata": {},
   "outputs": [
    {
     "name": "stdout",
     "output_type": "stream",
     "text": [
      "2/2 [==============================] - 0s 2ms/step\n"
     ]
    }
   ],
   "source": [
    "testX = np.array(X_test)\n",
    "testX = testX.reshape(testX.shape[0], 1, testX.shape[1])\n",
    "\n",
    "# Predict with testX\n",
    "predict_lstm = model.predict(testX)\n",
    "predict_lstm = scaler.inverse_transform(predict_lstm)"
   ]
  },
  {
   "cell_type": "code",
   "execution_count": 61,
   "id": "a7af21c4",
   "metadata": {},
   "outputs": [
    {
     "data": {
      "image/png": "[encoded data removed]",
      "text/plain": [
       "<Figure size 432x288 with 1 Axes>"
      ]
     },
     "metadata": {
      "needs_background": "light"
     },
     "output_type": "display_data"
    }
   ],
   "source": [
    "plt.plot(test, color = \"red\", label = \"Real Google Stock Price\")\n",
    "plt.plot(predict_lstm, color = \"blue\", label = \"Predicted Google Stock Price\")\n",
    "plt.title(\"Google Stock Price Prediction\")\n",
    "plt.xlabel(\"Time\")\n",
    "plt.ylabel(\"Google Stock Price\")\n",
    "plt.legend()\n",
    "plt.show()"
   ]
  },
  {
   "cell_type": "code",
   "execution_count": null,
   "id": "1ec9664d",
   "metadata": {},
   "outputs": [],
   "source": []
  },
  {
   "cell_type": "code",
   "execution_count": null,
   "id": "efa75722",
   "metadata": {},
   "outputs": [],
   "source": []
  }
 ],
 "metadata": {
  "kernelspec": {
   "display_name": "Python 3 (ipykernel)",
   "language": "python",
   "name": "python3"
  },
  "language_info": {
   "codemirror_mode": {
    "name": "ipython",
    "version": 3
   },
   "file_extension": ".py",
   "mimetype": "text/x-python",
   "name": "python",
   "nbconvert_exporter": "python",
   "pygments_lexer": "ipython3",
   "version": "3.10.5"
  }
 },
 "nbformat": 4,
 "nbformat_minor": 5
}
